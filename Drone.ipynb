{
 "cells": [
  {
   "cell_type": "code",
   "execution_count": 1,
   "metadata": {},
   "outputs": [
    {
     "name": "stdout",
     "output_type": "stream",
     "text": [
      "mass- 500\n",
      "weight- 4900.0\n",
      "Length- 10\n",
      "Moment of I- 4166.666666666666\n"
     ]
    }
   ],
   "source": [
    "%matplotlib inline                         \n",
    "from pylab import *\n",
    "from IPython import display\n",
    "import time\n",
    "from numpy.random import uniform\n",
    "from scipy.integrate import odeint\n",
    "\n",
    "m=500                                                           # Set Parameters\n",
    "L=10\n",
    "I=(1/12)*m*L**2\n",
    "\n",
    "\n",
    "def Accelx(theta,FL,FR):\n",
    "    a = -(FL*sin(theta) - FR*sin(theta))/m                      #Acceleration in X\n",
    "    \n",
    "    return a\n",
    "\n",
    "\n",
    "def Accely(theta,FL,FR):                                        #Acceleration in Y\n",
    "    a = -9.8 + (FL*cos(theta)+FR*cos(theta))/m\n",
    "    \n",
    "    return a\n",
    "\n",
    "def angAccel(FL,FR):                                            #Alpha\n",
    "    a = (FR*L*.5 - FL*L*.5)/I\n",
    "    \n",
    "    return a\n",
    "\n",
    "\n",
    "def RKStep2Ddrone(iv,dt):                 ### Implement a single step of the Runge-Kutta method...\n",
    "    P=zeros((4,2))\n",
    "    x=iv[0,0]\n",
    "    y=iv[0,1]\n",
    "    Vx=iv[1,0]                            # Recieve Old Values            \n",
    "    Vy=iv[1,1]\n",
    "    theta=iv[2,0]\n",
    "    Omega=iv[2,1]\n",
    "    FL=iv[3,0]\n",
    "    FR=iv[3,1]\n",
    "\n",
    "    dVx1=dt*Accelx(theta,FL,FR)                          # 4 mini time steps\n",
    "    dVy1=dt*Accely(theta,FL,FR)\n",
    "    dOmega1=dt*angAccel(FL,FR)\n",
    "    \n",
    "    dx1=dt*Vx\n",
    "    dy1=dt*Vy\n",
    "    dtheta1=dt*Omega\n",
    "    \n",
    "    dVx2=dt*Accelx((theta + dtheta1/2),FL,FR)\n",
    "    dVy2=dt*Accely((theta + dtheta1/2),FL,FR)\n",
    "    dOmega2=dt*angAccel(FL,FR)\n",
    "    \n",
    "    dx2=dt*(Vx+(dVx1/2))\n",
    "    dy2=dt*(Vy+(dVy1/2))\n",
    "    dtheta2=dt*(Omega+(dOmega1/2))\n",
    "    \n",
    "    dVx3=dt*Accelx((theta + dtheta2/2),FL,FR)\n",
    "    dVy3=dt*Accely((theta + dtheta2/2),FL,FR)\n",
    "    dOmega3=dt*angAccel(FL,FR)\n",
    "    \n",
    "    dx3=dt*(Vx+(dVx2/2))\n",
    "    dy3=dt*(Vy+(dVy2/2))\n",
    "    dtheta3=dt*(Omega+(dOmega2/2))\n",
    "    \n",
    "    dVx4=dt*Accelx((theta + dtheta3),FL,FR)\n",
    "    dVy4=dt*Accely((theta + dtheta3) ,FL,FR)\n",
    "    dOmega4=dt*angAccel(FL,FR)\n",
    "    \n",
    "    dx4=dt*(Vx+dVx3)\n",
    "    dy4=dt*(Vy+dVy3)\n",
    "    dtheta4=dt*(Omega+dOmega3)\n",
    "    \n",
    "    Vxnew = Vx +(1.0/6)*(dVx1+dVx4+2*(dVx2+dVx3))                          # Weighted mini step average\n",
    "    Vynew = Vy +(1.0/6)*(dVy1+dVy4+2*(dVy2+dVy3))\n",
    "    newOmega = Omega +(1.0/6)*(dOmega1+dOmega4+2*(dOmega2+dOmega3))\n",
    "    \n",
    "    xnew = x +(1.0/6)*(dx1+dx4+2*(dx2+dx3))\n",
    "    ynew = y +(1.0/6)*(dy1+dy4+2*(dy2+dy3))\n",
    "    newtheta = theta +(1.0/6)*(dtheta1+dtheta4+2*(dtheta2+dtheta3))\n",
    "    \n",
    "    \n",
    "    P[0,0]=xnew                                         #Pass New Values\n",
    "    P[0,1]=ynew\n",
    "    P[1,0]=Vxnew\n",
    "    P[1,1]=Vynew\n",
    "    P[2,0]=newtheta\n",
    "    P[2,1]=newOmega\n",
    "    P[3,0]=FL\n",
    "    P[3,1]=FR\n",
    "    \n",
    "    \n",
    "    return P\n",
    "\n",
    "print(\"mass-\",m)                              # Systems Parameters\n",
    "print(\"weight-\",m*9.8)\n",
    "print(\"Length-\",L)\n",
    "print(\"Moment of I-\",I)"
   ]
  },
  {
   "cell_type": "code",
   "execution_count": null,
   "metadata": {},
   "outputs": [
    {
     "data": {
      "text/html": [
       "<div id=\"glowscript\" class=\"glowscript\"></div>"
      ],
      "text/plain": [
       "<IPython.core.display.HTML object>"
      ]
     },
     "metadata": {},
     "output_type": "display_data"
    },
    {
     "data": {
      "application/javascript": [
       "if (typeof Jupyter !== \"undefined\") { window.__context = { glowscript_container: $(\"#glowscript\").removeAttr(\"id\")};}else{ element.textContent = ' ';}"
      ],
      "text/plain": [
       "<IPython.core.display.Javascript object>"
      ]
     },
     "metadata": {},
     "output_type": "display_data"
    }
   ],
   "source": [
    "from vpython import *\n",
    "scene = canvas()\n",
    "\n",
    "scene.width = 350\n",
    "scene.height = 300\n",
    "scene.range = 10\n",
    "scene.title = \"2D Drone Simulation \\n\"\n",
    "    \n",
    "sphere(radius=.3)\n",
    "\n",
    "currentobject=box( length=10, height=1, visible=True )\n",
    "currentobject.color = color.cyan\n",
    "\n",
    "\n",
    "def setspeed(s):\n",
    "    wt.text = '{:1.2f}'.format(s.value)\n",
    "    wt1.text = '{:1.2f}'.format(s.value)\n",
    "    \n",
    "s1 = slider(min=2000, max=2700, value=4900/2, length=220, bind=setspeed, right=15)\n",
    "s2 = slider(min=2000, max=2700, value=4900/2, length=220, bind=setspeed, right=15)\n",
    "wt = wtext(text='{:1.2f}'.format(s1.value))\n",
    "wt1 = wtext(text='{:1.2f}'.format(s2.value))\n",
    "\n",
    "dt = 0.01\n",
    "iv=zeros((4,2))\n",
    "    \n",
    "while True:\n",
    "    rate(1/dt)\n",
    "    iv[3,0]=s1.value\n",
    "    iv[3,1]=s2.value\n",
    "    \n",
    "    itheta=iv[2,0]\n",
    "    \n",
    "    iv=RKStep2Ddrone(iv,dt)\n",
    "    \n",
    "    dtheta=iv[2,0]-itheta\n",
    "    \n",
    "    currentobject.rotate(angle=dtheta, axis=vector(0,0,1))\n",
    "    \n",
    "    currentobject.pos=vector(iv[0,0],iv[0,1],0)\n",
    "\n",
    "    \n",
    "#iv[0,0]=0 #x\n",
    "#iv[0,1]=0 #y\n",
    "#iv[1,0]=0 #Vx\n",
    "#iv[1,1]=0 #Vy\n",
    "#iv[2,0]=0 #theta\n",
    "#iv[2,1]=0 #Omega\n",
    "#iv[3,0]=0 #FL\n",
    "#iv[3,1]=0 #FR\n",
    "    \n"
   ]
  },
  {
   "cell_type": "code",
   "execution_count": null,
   "metadata": {},
   "outputs": [],
   "source": []
  },
  {
   "cell_type": "code",
   "execution_count": null,
   "metadata": {},
   "outputs": [],
   "source": []
  }
 ],
 "metadata": {
  "kernelspec": {
   "display_name": "Python 3",
   "language": "python",
   "name": "python3"
  },
  "language_info": {
   "codemirror_mode": {
    "name": "ipython",
    "version": 3
   },
   "file_extension": ".py",
   "mimetype": "text/x-python",
   "name": "python",
   "nbconvert_exporter": "python",
   "pygments_lexer": "ipython3",
   "version": "3.7.1"
  }
 },
 "nbformat": 4,
 "nbformat_minor": 2
}
