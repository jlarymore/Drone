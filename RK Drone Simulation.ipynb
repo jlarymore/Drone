{
 "cells": [
  {
   "cell_type": "code",
   "execution_count": 29,
   "metadata": {},
   "outputs": [],
   "source": [
    "%matplotlib inline\n",
    "from pylab import *\n",
    "from IPython import display\n",
    "import time\n",
    "from numpy.random import uniform\n",
    "from scipy.integrate import odeint"
   ]
  },
  {
   "cell_type": "code",
   "execution_count": 30,
   "metadata": {},
   "outputs": [],
   "source": [
    "def Accelx(Fx):\n",
    "    a = 0#(Fx[0]+Fx[1])/m #-(k*xn)/m    #### Fill this in\n",
    "    \n",
    "    return a\n",
    "\n",
    "def RKStepx(x, Vx, F,dt): ### Implement a single step of the Runge-Kutta method...\n",
    "    dVx1=dt*Accelx(x)\n",
    "    dx1=dt*Vx\n",
    "    dVx2=dt*Accelx(F)\n",
    "    dx2=dt*(Vx+(dVx1/2))\n",
    "    dVx3=dt*Accelx(F)\n",
    "    dx3=dt*(Vx+(dVx2/2))\n",
    "    dVx4=dt*Accelx(F)\n",
    "    dx4=dt*(Vx+dVx3)\n",
    "    Vxnew = Vx +(1.0/6)*(dVx1+dVx4+2*(dVx2+dVx3))\n",
    "    xnew = x +(1.0/6)*(dx1+dx4+2*(dx2+dx3))\n",
    "    P=[xnew,Vxnew]\n",
    "    \n",
    "    return P\n",
    "\n"
   ]
  },
  {
   "cell_type": "code",
   "execution_count": 31,
   "metadata": {},
   "outputs": [],
   "source": [
    "def Accely(Fy):\n",
    "    a = (-9.8 +Fy[0]+Fy[1])/m#-(k*xn)/m    #### Fill this in\n",
    "    \n",
    "    return a\n",
    "\n",
    "def RKStepy(y, Vy, F,dt): ### Implement a single step of the Runge-Kutta method...\n",
    "    dVy1=dt*Accely(F)\n",
    "    dy1=dt*Vy\n",
    "    dVy2=dt*Accely(F)\n",
    "    dy2=dt*(Vy+(dVy1/2))\n",
    "    dVy3=dt*Accely(F)\n",
    "    dy3=dt*(Vy+(dVy2/2))\n",
    "    dVy4=dt*Accely(F)\n",
    "    dy4=dt*(Vy+dVy3)\n",
    "    Vynew = Vy +(1.0/6)*(dVy1+dVy4+2*(dVy2+dVy3))\n",
    "    ynew = y +(1.0/6)*(dy1+dy4+2*(dy2+dy3))\n",
    "    P=[ynew,Vynew]\n",
    "    \n",
    "    return P"
   ]
  },
  {
   "cell_type": "code",
   "execution_count": 32,
   "metadata": {},
   "outputs": [],
   "source": [
    "def RKSol(iv , t):\n",
    "    dt=t[1]-t[0]\n",
    "    Nsteps = len(t)\n",
    "    \n",
    "    y = zeros(Nsteps)\n",
    "    Vy = zeros(Nsteps)\n",
    "    y[0] = iv[1,0]\n",
    "    Vy[0] = iv[1,1]\n",
    "\n",
    "    x = zeros(Nsteps)\n",
    "    Vx = zeros(Nsteps)\n",
    "    x[0] = iv[0,0]\n",
    "    Vx[0] = iv[0,1]\n",
    "    F= iv[2,:]\n",
    "    \n",
    "    \n",
    "    for nt in range(0, len(t)-1):\n",
    "        y[nt+1],Vy[nt+1]=RKStepy(y[nt],Vy[nt], F,dt)\n",
    "        x[nt+1],Vx[nt+1]=RKStepx(x[nt],Vx[nt], F,dt)\n",
    "    \n",
    "    return x, y"
   ]
  },
  {
   "cell_type": "code",
   "execution_count": 35,
   "metadata": {},
   "outputs": [],
   "source": [
    "F1=-4.9\n",
    "F2=-4.9\n",
    "ix=0#6.0\n",
    "iVx=0 #5.0\n",
    "iy=0.0\n",
    "iVy=0#10.0\n",
    "m= 3.3\n",
    "iv=zeros((3,2))\n",
    "iv[0,0]= ix\n",
    "iv[0,1]= iVx\n",
    "\n",
    "iv[1,0]= iy\n",
    "iv[1,1]= iVy\n",
    "\n",
    "iv[2,0]= F1\n",
    "iv[2,1]= F2"
   ]
  },
  {
   "cell_type": "code",
   "execution_count": 36,
   "metadata": {},
   "outputs": [
    {
     "data": {
      "text/plain": [
       "[<matplotlib.lines.Line2D at 0x23b4a30e898>]"
      ]
     },
     "execution_count": 36,
     "metadata": {},
     "output_type": "execute_result"
    },
    {
     "data": {
      "image/png": "[encoded data removed]",
      "text/plain": [
       "<Figure size 432x288 with 1 Axes>"
      ]
     },
     "metadata": {
      "needs_background": "light"
     },
     "output_type": "display_data"
    }
   ],
   "source": [
    "tmax=1\n",
    "L=10.0\n",
    "dt=.001\n",
    "t= arange(0.0, tmax, dt)\n",
    "x,y = RKSol(iv,t)\n",
    "\n",
    "\n",
    "plot(x,y)\n",
    "#plot(t,x)"
   ]
  },
  {
   "cell_type": "code",
   "execution_count": null,
   "metadata": {},
   "outputs": [],
   "source": []
  }
 ],
 "metadata": {
  "kernelspec": {
   "display_name": "Python 3",
   "language": "python",
   "name": "python3"
  },
  "language_info": {
   "codemirror_mode": {
    "name": "ipython",
    "version": 3
   },
   "file_extension": ".py",
   "mimetype": "text/x-python",
   "name": "python",
   "nbconvert_exporter": "python",
   "pygments_lexer": "ipython3",
   "version": "3.7.1"
  }
 },
 "nbformat": 4,
 "nbformat_minor": 2
}
